{
 "cells": [
  {
   "cell_type": "code",
   "execution_count": 51,
   "metadata": {},
   "outputs": [],
   "source": [
    "#importing Libraries to be used in the project\n",
    "import numpy as np\n",
    "import pandas as pd\n",
    "from matplotlib import pyplot as plt "
   ]
  },
  {
   "cell_type": "code",
   "execution_count": 52,
   "metadata": {},
   "outputs": [
    {
     "name": "stdout",
     "output_type": "stream",
     "text": [
      "(42000, 785)\n",
      "(42000, 785)\n"
     ]
    }
   ],
   "source": [
    "#Reading csv file by using pandas\n",
    "ds = pd.read_csv('/home/chirag/MachieneLearingClassCodes/all/train.csv')\n",
    "print(ds.shape)\n",
    "\n",
    "data = ds.values\n",
    "print(data.shape)"
   ]
  },
  {
   "cell_type": "code",
   "execution_count": 53,
   "metadata": {},
   "outputs": [
    {
     "name": "stdout",
     "output_type": "stream",
     "text": [
      "(42000,) (42000, 784)\n",
      "8\n"
     ]
    },
    {
     "data": {
      "image/png": "[encoded data removed]",
      "text/plain": [
       "<Figure size 432x288 with 1 Axes>"
      ]
     },
     "metadata": {
      "needs_background": "light"
     },
     "output_type": "display_data"
    }
   ],
   "source": [
    "# The first column of the dataset contains the labels\n",
    "y_train = data[: , 0]\n",
    "# Next 784 columns of the dataset contains the pixels information, So are slicing the data array \n",
    "x_train = data[: , 1:]\n",
    "\n",
    "print(y_train.shape,x_train.shape)\n",
    "\n",
    "#Procedure to print figure by using pixel values of the figure\n",
    "plt.figure(0)\n",
    "idx = 1204\n",
    "\n",
    "print(y_train[idx])\n",
    "\n",
    "plt.imshow(x_train[idx].reshape((28,28)),cmap=\"gray\")\n",
    "plt.show()\n"
   ]
  },
  {
   "cell_type": "code",
   "execution_count": 54,
   "metadata": {},
   "outputs": [],
   "source": [
    "# Euclidean Distance\n",
    "\n",
    "def dis(x1,x2):\n",
    "    return np.sqrt(((x1-x2)**2).sum())\n"
   ]
  },
  {
   "cell_type": "code",
   "execution_count": 55,
   "metadata": {},
   "outputs": [],
   "source": [
    "#knn Algorithm \n",
    "def knn(x_train,query_point,y_train,k=5):\n",
    "    vals=[]\n",
    "    \n",
    "    #Calculating the distance of the query_point with all other points\n",
    "    for ix in range(x_train.shape[0]):\n",
    "        v=[dis(query_point,x_train[ix,:]),y_train[ix]]\n",
    "        vals.append(v)\n",
    "    \n",
    "    #Sorting the vals array in increasing order\n",
    "    updated_vals = sorted(vals)\n",
    "    \n",
    "    # Choosing only first k values of the calculated distances.\n",
    "    pred_arr = np.array(updated_vals[ :k])\n",
    "    \n",
    "    #Counting the number of times each entry is present in the array\n",
    "    pred_arr = np.unique(pred_arr[ : , 1],return_counts=True)\n",
    "    \n",
    "    #Finding the index of the element which occurs maximum number of times\n",
    "    index = pred_arr[1].argmax()\n",
    "    \n",
    "#     print(pred_arr)\n",
    "    #Returnig the predicted Value.\n",
    "    return pred_arr[0][index]\n"
   ]
  },
  {
   "cell_type": "code",
   "execution_count": 56,
   "metadata": {},
   "outputs": [
    {
     "name": "stdout",
     "output_type": "stream",
     "text": [
      "8.0\n",
      "8\n"
     ]
    },
    {
     "data": {
      "image/png": "[encoded data removed]",
      "text/plain": [
       "<Figure size 432x288 with 1 Axes>"
      ]
     },
     "metadata": {
      "needs_background": "light"
     },
     "output_type": "display_data"
    }
   ],
   "source": [
    "#Generating a random value(index) from the data set\n",
    "idq = int(np.random.random() * x_train.shape[0])\n",
    "#Finding the query point by using the random index value generated from the previous step\n",
    "q = x_train[idq]\n",
    "\n",
    "#Predicting the result by using the knn algorithm\n",
    "res = knn(x_train[:10000],q,y_train[:10000],k=7)\n",
    "\n",
    "#Printing the predicted result by knn\n",
    "print(res)\n",
    "\n",
    "#Printing the actual value of the digit\n",
    "print(y_train[idq])\n",
    "\n",
    "#Printing the original image on which predictions are done by using knn.\n",
    "plt.figure(0)\n",
    "plt.imshow(q.reshape((28,28)),cmap=\"gray\")\n",
    "plt.show()"
   ]
  },
  {
   "cell_type": "code",
   "execution_count": null,
   "metadata": {},
   "outputs": [],
   "source": []
  }
 ],
 "metadata": {
  "kernelspec": {
   "display_name": "Python 3",
   "language": "python",
   "name": "python3"
  },
  "language_info": {
   "codemirror_mode": {
    "name": "ipython",
    "version": 3
   },
   "file_extension": ".py",
   "mimetype": "text/x-python",
   "name": "python",
   "nbconvert_exporter": "python",
   "pygments_lexer": "ipython3",
   "version": "3.5.2"
  }
 },
 "nbformat": 4,
 "nbformat_minor": 2
}
